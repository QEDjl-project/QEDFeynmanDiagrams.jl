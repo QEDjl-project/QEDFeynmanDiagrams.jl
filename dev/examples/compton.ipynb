{
 "cells": [
  {
   "cell_type": "markdown",
   "source": [
    "# n-Photon Compton Scattering Process"
   ],
   "metadata": {}
  },
  {
   "cell_type": "markdown",
   "source": [
    "In this file, we set up an n-photon Compton scattering process. A Compton scattering\n",
    "process looks like $k^n e^- \\to k e^-$."
   ],
   "metadata": {}
  },
  {
   "cell_type": "markdown",
   "source": [
    "You can download this file as a [jupyter notebook](compton.ipynb)."
   ],
   "metadata": {}
  },
  {
   "outputs": [],
   "cell_type": "code",
   "source": [
    "using QEDFeynmanDiagrams"
   ],
   "metadata": {},
   "execution_count": 1
  },
  {
   "cell_type": "markdown",
   "source": [
    "We need some of the packages of the [QEDjl-project](https://github.com/QEDjl-project) for base\n",
    "functionality and the `ScatteringProcess` type."
   ],
   "metadata": {}
  },
  {
   "outputs": [],
   "cell_type": "code",
   "source": [
    "using QEDcore\n",
    "using QEDprocesses"
   ],
   "metadata": {},
   "execution_count": 2
  },
  {
   "cell_type": "markdown",
   "source": [
    "Let's decide how many photons our electron interacts with:"
   ],
   "metadata": {}
  },
  {
   "outputs": [],
   "cell_type": "code",
   "source": [
    "n = 4;"
   ],
   "metadata": {},
   "execution_count": 3
  },
  {
   "cell_type": "markdown",
   "source": [
    "Now we setup the scattering process accordingly. We consider all spin/polarization\n",
    "combinations of the particles except for the incoming photons, where the polarizations are synced using `QEDbase.SyncedPolarization`.\n",
    "This emulates all synced photons having the same, but still indefinite, polarization, for example from a laser."
   ],
   "metadata": {}
  },
  {
   "outputs": [
    {
     "output_type": "execute_result",
     "data": {
      "text/plain": "generic QED process\n    incoming: electron (all spins), photon (synced polarization 1), photon (synced polarization 1), photon (synced polarization 1), photon (synced polarization 1)\n    outgoing: electron (all spins), photon (all polarizations)\n"
     },
     "metadata": {},
     "execution_count": 4
    }
   ],
   "cell_type": "code",
   "source": [
    "proc = ScatteringProcess(\n",
    "    (Electron(), ntuple(_ -> Photon(), n)...),     # incoming particles\n",
    "    (Electron(), Photon()),                        # outgoing particles\n",
    "    (AllSpin(), ntuple(_ -> SyncedPol(1), n)...),  # incoming particle spin/pols\n",
    "    (AllSpin(), AllPol()),                         # outgoing particle spin/pols\n",
    ")"
   ],
   "metadata": {},
   "execution_count": 4
  },
  {
   "cell_type": "markdown",
   "source": [
    "The `feynman_diagrams` function returns an iterator for all possible Feynman diagrams\n",
    "for this scattering process. With its `length` overload, we can check how many diagrams\n",
    "there are. For an n-photon Compton process with `n` incoming photons, this should be\n",
    "$(n+1)!$."
   ],
   "metadata": {}
  },
  {
   "outputs": [
    {
     "output_type": "execute_result",
     "data": {
      "text/plain": "120"
     },
     "metadata": {},
     "execution_count": 5
    }
   ],
   "cell_type": "code",
   "source": [
    "length(feynman_diagrams(proc))"
   ],
   "metadata": {},
   "execution_count": 5
  },
  {
   "cell_type": "markdown",
   "source": [
    "Next, we can generate the DAG representing the computation for our scattering process'\n",
    "squared matrix element. This uses [`ComputableDAGs.jl`](https://github.com/ComputableDAGs/ComputableDAGs.jl)."
   ],
   "metadata": {}
  },
  {
   "outputs": [
    {
     "output_type": "execute_result",
     "data": {
      "text/plain": "Graph:\n  Nodes: Total: 2262, QEDFeynmanDiagrams.ComputeTask_PropagatePairs: 152, QEDFeynmanDiagrams.ComputeTask_Propagator: 30, \n         QEDFeynmanDiagrams.ComputeTask_Triple: 480, ComputableDAGs.DataTask: 1153, QEDFeynmanDiagrams.ComputeTask_CollectTriples: 16, \n         QEDFeynmanDiagrams.ComputeTask_Pair: 264, QEDFeynmanDiagrams.ComputeTask_CollectPairs: 152, QEDFeynmanDiagrams.ComputeTask_BaseState: 14, \n         QEDFeynmanDiagrams.ComputeTask_SpinPolCumulation: 1\n  Edges: 4185\n  Total Compute Effort: 0.0\n  Total Data Transfer: 0.0\n  Total Compute Intensity: 0.0\n"
     },
     "metadata": {},
     "execution_count": 6
    }
   ],
   "cell_type": "code",
   "source": [
    "dag = generate_DAG(proc)"
   ],
   "metadata": {},
   "execution_count": 6
  },
  {
   "cell_type": "markdown",
   "source": [
    "In this graph output you can see the number of nodes necessary to compute.\n",
    "Note that for larger processes, the number of total nodes can be *lower* than\n",
    "the number of Feynman diagrams, even with the added complexity of considering\n",
    "multiple spin and polarization combinations. This is the result of efficient\n",
    "reuse of reappearing parts of Feynman diagrams."
   ],
   "metadata": {}
  },
  {
   "cell_type": "markdown",
   "source": [
    "To continue, we will need [`ComputableDAGs.jl`](https://github.com/ComputableDAGs/ComputableDAGs.jl). Since `ComputableDAGs.jl` uses\n",
    "`RuntimeGeneratedFunction`s as the return type of `ComputableDAGs.get_compute_function`, we need\n",
    "to initialize it in our current module."
   ],
   "metadata": {}
  },
  {
   "outputs": [],
   "cell_type": "code",
   "source": [
    "using ComputableDAGs\n",
    "using RuntimeGeneratedFunctions\n",
    "RuntimeGeneratedFunctions.init(@__MODULE__)"
   ],
   "metadata": {},
   "execution_count": 7
  },
  {
   "cell_type": "markdown",
   "source": [
    "With the DAG, the process, and `RuntimeGeneratedFunctions` initalized,\n",
    "we can now generate the actual computable function:"
   ],
   "metadata": {}
  },
  {
   "outputs": [],
   "cell_type": "code",
   "source": [
    "func = get_compute_function(dag, proc, cpu_st(), @__MODULE__);"
   ],
   "metadata": {},
   "execution_count": 8
  },
  {
   "cell_type": "markdown",
   "source": [
    "Now we need an input for the function, which is a `QEDcore.PhaseSpacePoint`.\n",
    "For now, we generate random momenta for every particle. In the future, QEDevents\n",
    "will be able to generate physical `PhaseSpacePoint`s."
   ],
   "metadata": {}
  },
  {
   "outputs": [
    {
     "output_type": "execute_result",
     "data": {
      "text/plain": "PhaseSpacePoint:\n    process: generic QED process \"ekkkk -> ek\"\n    model: perturbative QED\n    phasespace definition: spherical coordinates in electron rest frame\n    incoming particles:\n     -> incoming electron: [0.3130027363633211, 0.8257697537613388, 0.19887283603268358, 0.526298584076336]\n     -> incoming photon: [0.22990041972909425, 0.5158759759388896, 0.6768654303678353, 0.5740868959913966]\n     -> incoming photon: [0.38573108544062296, 0.9292740476441036, 0.41592523277078985, 0.527612748706132]\n     -> incoming photon: [0.8686084267691285, 0.3642842582830721, 0.4874306366510571, 0.3159338754636305]\n     -> incoming photon: [0.8914624933582852, 0.5467597117793941, 0.026463106053576713, 0.16925351048307158]\n    outgoing particles:\n     -> outgoing electron: [0.8374124852328247, 0.7372281998039045, 0.07158135748911165, 0.6443685663900897]\n     -> outgoing photon: [0.02066278075149508, 0.8797612817360894, 0.12073013825877488, 0.8203682655471711]\n"
     },
     "metadata": {},
     "execution_count": 9
    }
   ],
   "cell_type": "code",
   "source": [
    "psp = PhaseSpacePoint(\n",
    "    proc,\n",
    "    PerturbativeQED(),\n",
    "    PhasespaceDefinition(SphericalCoordinateSystem(), ElectronRestFrame()),\n",
    "    tuple((rand(SFourMomentum) for _ in 1:number_incoming_particles(proc))...),\n",
    "    tuple((rand(SFourMomentum) for _ in 1:number_outgoing_particles(proc))...),\n",
    ")"
   ],
   "metadata": {},
   "execution_count": 9
  },
  {
   "cell_type": "markdown",
   "source": [
    "Finally, we can test that the function actually runs and computes something by\n",
    "simply calling it on the `PhaseSpacePoint`:"
   ],
   "metadata": {}
  },
  {
   "outputs": [
    {
     "output_type": "execute_result",
     "data": {
      "text/plain": "0.4402557439994318"
     },
     "metadata": {},
     "execution_count": 10
    }
   ],
   "cell_type": "code",
   "source": [
    "func(psp)"
   ],
   "metadata": {},
   "execution_count": 10
  },
  {
   "cell_type": "markdown",
   "source": [
    "If we want, we can benchmark the execution speed too:"
   ],
   "metadata": {}
  },
  {
   "outputs": [
    {
     "output_type": "execute_result",
     "data": {
      "text/plain": "BenchmarkTools.Trial: 10000 samples with 1 evaluation.\n Range \u001b[90m(\u001b[39m\u001b[36m\u001b[1mmin\u001b[22m\u001b[39m … \u001b[35mmax\u001b[39m\u001b[90m):  \u001b[39m\u001b[36m\u001b[1m42.670 μs\u001b[22m\u001b[39m … \u001b[35m105.267 μs\u001b[39m  \u001b[90m┊\u001b[39m GC \u001b[90m(\u001b[39mmin … max\u001b[90m): \u001b[39m0.00% … 0.00%\n Time  \u001b[90m(\u001b[39m\u001b[34m\u001b[1mmedian\u001b[22m\u001b[39m\u001b[90m):     \u001b[39m\u001b[34m\u001b[1m43.502 μs               \u001b[22m\u001b[39m\u001b[90m┊\u001b[39m GC \u001b[90m(\u001b[39mmedian\u001b[90m):    \u001b[39m0.00%\n Time  \u001b[90m(\u001b[39m\u001b[32m\u001b[1mmean\u001b[22m\u001b[39m ± \u001b[32mσ\u001b[39m\u001b[90m):   \u001b[39m\u001b[32m\u001b[1m45.267 μs\u001b[22m\u001b[39m ± \u001b[32m  4.678 μs\u001b[39m  \u001b[90m┊\u001b[39m GC \u001b[90m(\u001b[39mmean ± σ\u001b[90m):  \u001b[39m0.00% ± 0.00%\n\n  \u001b[39m▆\u001b[39m█\u001b[34m▆\u001b[39m\u001b[39m▄\u001b[39m▃\u001b[39m▂\u001b[32m▂\u001b[39m\u001b[39m▄\u001b[39m▄\u001b[39m▃\u001b[39m▁\u001b[39m▁\u001b[39m▁\u001b[39m▁\u001b[39m \u001b[39m \u001b[39m \u001b[39m \u001b[39m \u001b[39m \u001b[39m \u001b[39m \u001b[39m \u001b[39m \u001b[39m \u001b[39m \u001b[39m \u001b[39m▂\u001b[39m▂\u001b[39m \u001b[39m \u001b[39m \u001b[39m \u001b[39m \u001b[39m \u001b[39m \u001b[39m \u001b[39m \u001b[39m \u001b[39m \u001b[39m \u001b[39m \u001b[39m \u001b[39m \u001b[39m \u001b[39m \u001b[39m \u001b[39m \u001b[39m \u001b[39m \u001b[39m \u001b[39m \u001b[39m \u001b[39m \u001b[39m \u001b[39m \u001b[39m \u001b[39m \u001b[39m \u001b[39m \u001b[39m \u001b[39m▁\n  \u001b[39m█\u001b[39m█\u001b[34m█\u001b[39m\u001b[39m█\u001b[39m█\u001b[39m█\u001b[32m█\u001b[39m\u001b[39m█\u001b[39m█\u001b[39m█\u001b[39m█\u001b[39m█\u001b[39m█\u001b[39m█\u001b[39m█\u001b[39m█\u001b[39m█\u001b[39m▇\u001b[39m▇\u001b[39m▇\u001b[39m▇\u001b[39m▆\u001b[39m▆\u001b[39m▆\u001b[39m▆\u001b[39m▆\u001b[39m▇\u001b[39m█\u001b[39m█\u001b[39m█\u001b[39m▇\u001b[39m▆\u001b[39m▇\u001b[39m▆\u001b[39m▇\u001b[39m▇\u001b[39m▆\u001b[39m▆\u001b[39m▆\u001b[39m▆\u001b[39m▆\u001b[39m▅\u001b[39m▅\u001b[39m▅\u001b[39m▅\u001b[39m▃\u001b[39m▅\u001b[39m▄\u001b[39m▄\u001b[39m▅\u001b[39m▄\u001b[39m▄\u001b[39m▃\u001b[39m▂\u001b[39m▄\u001b[39m▄\u001b[39m▄\u001b[39m▂\u001b[39m▅\u001b[39m▄\u001b[39m \u001b[39m█\n  42.7 μs\u001b[90m       \u001b[39m\u001b[90mHistogram: \u001b[39m\u001b[90m\u001b[1mlog(\u001b[22m\u001b[39m\u001b[90mfrequency\u001b[39m\u001b[90m\u001b[1m)\u001b[22m\u001b[39m\u001b[90m by time\u001b[39m      67.8 μs \u001b[0m\u001b[1m<\u001b[22m\n\n Memory estimate\u001b[90m: \u001b[39m\u001b[33m4.88 KiB\u001b[39m, allocs estimate\u001b[90m: \u001b[39m\u001b[33m46\u001b[39m."
     },
     "metadata": {},
     "execution_count": 11
    }
   ],
   "cell_type": "code",
   "source": [
    "using BenchmarkTools\n",
    "@benchmark func($psp)"
   ],
   "metadata": {},
   "execution_count": 11
  },
  {
   "cell_type": "markdown",
   "source": [
    "---\n",
    "\n",
    "*This notebook was generated using [Literate.jl](https://github.com/fredrikekre/Literate.jl).*"
   ],
   "metadata": {}
  }
 ],
 "nbformat_minor": 3,
 "metadata": {
  "language_info": {
   "file_extension": ".jl",
   "mimetype": "application/julia",
   "name": "julia",
   "version": "1.10.5"
  },
  "kernelspec": {
   "name": "julia-1.10",
   "display_name": "Julia 1.10.5",
   "language": "julia"
  }
 },
 "nbformat": 4
}
