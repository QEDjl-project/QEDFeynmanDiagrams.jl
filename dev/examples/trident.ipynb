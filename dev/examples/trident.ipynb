{
 "cells": [
  {
   "cell_type": "markdown",
   "source": [
    "# n-Pair Trident Scattering Process"
   ],
   "metadata": {}
  },
  {
   "cell_type": "markdown",
   "source": [
    "In this file, we set up an n-pair trident scattering process. A trident\n",
    "process looks like $k e^- \\to e^- (e^- e^+)^n$."
   ],
   "metadata": {}
  },
  {
   "cell_type": "markdown",
   "source": [
    "You can download this file as a [jupyter notebook](trident.ipynb)."
   ],
   "metadata": {}
  },
  {
   "outputs": [],
   "cell_type": "code",
   "source": [
    "using QEDFeynmanDiagrams"
   ],
   "metadata": {},
   "execution_count": 1
  },
  {
   "cell_type": "markdown",
   "source": [
    "We need some of the packages of the [QEDjl-project](https://github.com/QEDjl-project) for base\n",
    "functionality and the `ScatteringProcess` type."
   ],
   "metadata": {}
  },
  {
   "outputs": [],
   "cell_type": "code",
   "source": [
    "using QEDcore\n",
    "using QEDprocesses"
   ],
   "metadata": {},
   "execution_count": 2
  },
  {
   "cell_type": "markdown",
   "source": [
    "Let's decide how many pairs our trident should produce:"
   ],
   "metadata": {}
  },
  {
   "outputs": [],
   "cell_type": "code",
   "source": [
    "n = 2;"
   ],
   "metadata": {},
   "execution_count": 3
  },
  {
   "cell_type": "markdown",
   "source": [
    "Now we setup the scattering process accordingly. We only consider a single spin/polarization\n",
    "combination here. For an example with many spin and polarization combinations, refer to the\n",
    "[n-photon Compton example](compton.md)"
   ],
   "metadata": {}
  },
  {
   "outputs": [
    {
     "output_type": "execute_result",
     "data": {
      "text/plain": "generic QED process\n    incoming: electron (spin up), photon (x-polarized)\n    outgoing: electron (spin up), electron (spin up), electron (spin up), positron (spin up), positron (spin up)\n"
     },
     "metadata": {},
     "execution_count": 4
    }
   ],
   "cell_type": "code",
   "source": [
    "proc = ScatteringProcess(\n",
    "    (Electron(), Photon()),                                                         # incoming particles\n",
    "    (Electron(), ntuple(_ -> Electron(), n)..., ntuple(_ -> Positron(), n)...),     # outgoing particles\n",
    "    (SpinUp(), PolX()),                                                             # incoming particle spin/pols\n",
    "    (SpinUp(), ntuple(_ -> SpinUp(), 2 * n)...),                                    # outgoing particle spin/pols\n",
    ")"
   ],
   "metadata": {},
   "execution_count": 4
  },
  {
   "cell_type": "markdown",
   "source": [
    "The `feynman_diagrams` function returns an iterator for all possible Feynman diagrams\n",
    "for this scattering process. With its `length` overload, we can check how many diagrams\n",
    "there are."
   ],
   "metadata": {}
  },
  {
   "outputs": [
    {
     "output_type": "execute_result",
     "data": {
      "text/plain": "252"
     },
     "metadata": {},
     "execution_count": 5
    }
   ],
   "cell_type": "code",
   "source": [
    "length(feynman_diagrams(proc))"
   ],
   "metadata": {},
   "execution_count": 5
  },
  {
   "cell_type": "markdown",
   "source": [
    "Next, we can generate the DAG representing the computation for our scattering process'\n",
    "squared matrix element. This uses `ComputableDAGs.jl`."
   ],
   "metadata": {}
  },
  {
   "outputs": [
    {
     "output_type": "execute_result",
     "data": {
      "text/plain": "Graph:\n  Nodes: Total: 619, QEDFeynmanDiagrams.ComputeTask_PropagatePairs: 42, ComputableDAGs.DataTask: 334, \n         QEDFeynmanDiagrams.ComputeTask_SpinPolCumulation: 1, QEDFeynmanDiagrams.ComputeTask_CollectPairs: 42, QEDFeynmanDiagrams.ComputeTask_Propagator: 42, \n         QEDFeynmanDiagrams.ComputeTask_BaseState: 7, QEDFeynmanDiagrams.ComputeTask_CollectTriples: 1, QEDFeynmanDiagrams.ComputeTask_Triple: 81, \n         QEDFeynmanDiagrams.ComputeTask_Pair: 69\n  Edges: 950\n  Total Compute Effort: 0.0\n  Total Data Transfer: 0.0\n  Total Compute Intensity: 0.0\n"
     },
     "metadata": {},
     "execution_count": 6
    }
   ],
   "cell_type": "code",
   "source": [
    "dag = generate_DAG(proc)"
   ],
   "metadata": {},
   "execution_count": 6
  },
  {
   "cell_type": "markdown",
   "source": [
    "To continue, we will need [`ComputableDAGs.jl`](https://github.com/ComputableDAGs/ComputableDAGs.jl). Since `ComputableDAGs.jl` uses\n",
    "`RuntimeGeneratedFunction`s as the return type of `ComputableDAGs.get_compute_function`, we need\n",
    "to initialize it in our current module."
   ],
   "metadata": {}
  },
  {
   "outputs": [],
   "cell_type": "code",
   "source": [
    "using ComputableDAGs\n",
    "using RuntimeGeneratedFunctions\n",
    "RuntimeGeneratedFunctions.init(@__MODULE__)"
   ],
   "metadata": {},
   "execution_count": 7
  },
  {
   "cell_type": "markdown",
   "source": [
    "With the DAG, the process, and `RuntimeGeneratedFunctions` initalized,\n",
    "we can now generate the actual computable function:"
   ],
   "metadata": {}
  },
  {
   "outputs": [],
   "cell_type": "code",
   "source": [
    "func = get_compute_function(dag, proc, cpu_st(), @__MODULE__);"
   ],
   "metadata": {},
   "execution_count": 8
  },
  {
   "cell_type": "markdown",
   "source": [
    "Now we need an input for the function, which is a `QEDcore.PhaseSpacePoint`.\n",
    "For now, we generate random momenta for every particle. In the future, QEDevents\n",
    "will be able to generate physical `PhaseSpacePoint`s."
   ],
   "metadata": {}
  },
  {
   "outputs": [
    {
     "output_type": "execute_result",
     "data": {
      "text/plain": "PhaseSpacePoint:\n    process: generic QED process \"ek -> eeepp\"\n    model: perturbative QED\n    phasespace definition: spherical coordinates in electron rest frame\n    incoming particles:\n     -> incoming electron: [0.13975482579647125, 0.619539852312437, 0.7895971795264277, 0.1142101271741045]\n     -> incoming photon: [0.5530905962296258, 0.8515961456260208, 0.349016893472744, 0.23201003461840508]\n    outgoing particles:\n     -> outgoing electron: [0.8505929279443324, 0.6364016819862665, 0.12494758284777396, 0.8723302912254229]\n     -> outgoing electron: [0.95068506830814, 0.2366867063912087, 0.5009722408604889, 0.9052531055774208]\n     -> outgoing electron: [0.2645641981101703, 0.3280613961741917, 0.9922187969570909, 0.9507905528091763]\n     -> outgoing positron: [0.17499691860137268, 0.9704425935401849, 0.0675657449461563, 0.8196342970741898]\n     -> outgoing positron: [0.1643194672247038, 0.7014509940852187, 0.950192733910905, 0.563215730816816]\n"
     },
     "metadata": {},
     "execution_count": 9
    }
   ],
   "cell_type": "code",
   "source": [
    "psp = PhaseSpacePoint(\n",
    "    proc,\n",
    "    PerturbativeQED(),\n",
    "    PhasespaceDefinition(SphericalCoordinateSystem(), ElectronRestFrame()),\n",
    "    tuple((rand(SFourMomentum) for _ in 1:number_incoming_particles(proc))...),\n",
    "    tuple((rand(SFourMomentum) for _ in 1:number_outgoing_particles(proc))...),\n",
    ")"
   ],
   "metadata": {},
   "execution_count": 9
  },
  {
   "cell_type": "markdown",
   "source": [
    "Finally, we can test that the function actually runs and computes something by\n",
    "simply calling it on the `PhaseSpacePoint`:"
   ],
   "metadata": {}
  },
  {
   "outputs": [
    {
     "output_type": "execute_result",
     "data": {
      "text/plain": "0.012264657867638232"
     },
     "metadata": {},
     "execution_count": 10
    }
   ],
   "cell_type": "code",
   "source": [
    "func(psp)"
   ],
   "metadata": {},
   "execution_count": 10
  },
  {
   "cell_type": "markdown",
   "source": [
    "If we want, we can benchmark the execution speed too:"
   ],
   "metadata": {}
  },
  {
   "outputs": [
    {
     "output_type": "execute_result",
     "data": {
      "text/plain": "BenchmarkTools.Trial: 10000 samples with 1 evaluation.\n Range \u001b[90m(\u001b[39m\u001b[36m\u001b[1mmin\u001b[22m\u001b[39m … \u001b[35mmax\u001b[39m\u001b[90m):  \u001b[39m\u001b[36m\u001b[1m41.107 μs\u001b[22m\u001b[39m … \u001b[35m170.674 ms\u001b[39m  \u001b[90m┊\u001b[39m GC \u001b[90m(\u001b[39mmin … max\u001b[90m): \u001b[39m 0.00% … 99.90%\n Time  \u001b[90m(\u001b[39m\u001b[34m\u001b[1mmedian\u001b[22m\u001b[39m\u001b[90m):     \u001b[39m\u001b[34m\u001b[1m45.275 μs               \u001b[22m\u001b[39m\u001b[90m┊\u001b[39m GC \u001b[90m(\u001b[39mmedian\u001b[90m):    \u001b[39m 0.00%\n Time  \u001b[90m(\u001b[39m\u001b[32m\u001b[1mmean\u001b[22m\u001b[39m ± \u001b[32mσ\u001b[39m\u001b[90m):   \u001b[39m\u001b[32m\u001b[1m71.216 μs\u001b[22m\u001b[39m ± \u001b[32m  1.708 ms\u001b[39m  \u001b[90m┊\u001b[39m GC \u001b[90m(\u001b[39mmean ± σ\u001b[90m):  \u001b[39m27.51% ±  3.19%\n\n  \u001b[39m▆\u001b[39m▆\u001b[39m█\u001b[34m█\u001b[39m\u001b[39m▇\u001b[39m▅\u001b[39m▃\u001b[39m▁\u001b[39m \u001b[39m \u001b[39m \u001b[39m \u001b[39m \u001b[39m \u001b[39m \u001b[39m \u001b[39m \u001b[39m \u001b[39m \u001b[39m \u001b[39m \u001b[39m \u001b[39m \u001b[39m \u001b[39m \u001b[32m \u001b[39m\u001b[39m▁\u001b[39m \u001b[39m \u001b[39m▁\u001b[39m▃\u001b[39m▃\u001b[39m▃\u001b[39m▃\u001b[39m▂\u001b[39m▁\u001b[39m \u001b[39m \u001b[39m \u001b[39m \u001b[39m \u001b[39m \u001b[39m \u001b[39m \u001b[39m \u001b[39m \u001b[39m \u001b[39m \u001b[39m \u001b[39m \u001b[39m \u001b[39m \u001b[39m \u001b[39m \u001b[39m \u001b[39m \u001b[39m \u001b[39m \u001b[39m \u001b[39m \u001b[39m \u001b[39m▂\n  \u001b[39m█\u001b[39m█\u001b[39m█\u001b[34m█\u001b[39m\u001b[39m█\u001b[39m█\u001b[39m█\u001b[39m█\u001b[39m▇\u001b[39m▆\u001b[39m▅\u001b[39m▆\u001b[39m▆\u001b[39m▆\u001b[39m▆\u001b[39m▆\u001b[39m▅\u001b[39m▆\u001b[39m▅\u001b[39m▄\u001b[39m▃\u001b[39m▄\u001b[39m▄\u001b[39m▄\u001b[39m▆\u001b[32m█\u001b[39m\u001b[39m█\u001b[39m█\u001b[39m█\u001b[39m█\u001b[39m█\u001b[39m█\u001b[39m█\u001b[39m█\u001b[39m█\u001b[39m█\u001b[39m█\u001b[39m▆\u001b[39m▇\u001b[39m▄\u001b[39m▅\u001b[39m▅\u001b[39m▃\u001b[39m▂\u001b[39m▂\u001b[39m▂\u001b[39m▃\u001b[39m▄\u001b[39m▂\u001b[39m▄\u001b[39m▅\u001b[39m▆\u001b[39m▆\u001b[39m▆\u001b[39m▇\u001b[39m▇\u001b[39m▇\u001b[39m█\u001b[39m▅\u001b[39m▅\u001b[39m \u001b[39m█\n  41.1 μs\u001b[90m       \u001b[39m\u001b[90mHistogram: \u001b[39m\u001b[90m\u001b[1mlog(\u001b[22m\u001b[39m\u001b[90mfrequency\u001b[39m\u001b[90m\u001b[1m)\u001b[22m\u001b[39m\u001b[90m by time\u001b[39m       114 μs \u001b[0m\u001b[1m<\u001b[22m\n\n Memory estimate\u001b[90m: \u001b[39m\u001b[33m93.92 KiB\u001b[39m, allocs estimate\u001b[90m: \u001b[39m\u001b[33m831\u001b[39m."
     },
     "metadata": {},
     "execution_count": 11
    }
   ],
   "cell_type": "code",
   "source": [
    "using BenchmarkTools\n",
    "@benchmark func($psp)"
   ],
   "metadata": {},
   "execution_count": 11
  },
  {
   "cell_type": "markdown",
   "source": [
    "---\n",
    "\n",
    "*This notebook was generated using [Literate.jl](https://github.com/fredrikekre/Literate.jl).*"
   ],
   "metadata": {}
  }
 ],
 "nbformat_minor": 3,
 "metadata": {
  "language_info": {
   "file_extension": ".jl",
   "mimetype": "application/julia",
   "name": "julia",
   "version": "1.10.5"
  },
  "kernelspec": {
   "name": "julia-1.10",
   "display_name": "Julia 1.10.5",
   "language": "julia"
  }
 },
 "nbformat": 4
}
